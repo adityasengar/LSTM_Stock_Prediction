{
  "nbformat": 4,
  "nbformat_minor": 0,
  "metadata": {
    "colab": {
      "private_outputs": true,
      "provenance": [],
      "toc_visible": true,
      "include_colab_link": true
    },
    "kernelspec": {
      "name": "python3",
      "display_name": "Python 3"
    }
  },
  "cells": [
    {
      "cell_type": "markdown",
      "metadata": {
        "id": "view-in-github",
        "colab_type": "text"
      },
      "source": [
        "<a href=\"https://colab.research.google.com/github/adityasengar/LSTM_Stock_Prediction/blob/main/LSTM_stock_price_prediction.ipynb\" target=\"_parent\"><img src=\"https://colab.research.google.com/assets/colab-badge.svg\" alt=\"Open In Colab\"/></a>"
      ]
    },
    {
      "cell_type": "markdown",
      "metadata": {
        "id": "dZ6xK6Y4yi5B"
      },
      "source": [
        "## connect google drive"
      ]
    },
    {
      "cell_type": "markdown",
      "metadata": {
        "id": "8UAeKDm5y_W_"
      },
      "source": [
        "[link text](https://)## import necessary libraries"
      ]
    },
    {
      "cell_type": "code",
      "metadata": {
        "id": "gJkb6fSRzBre"
      },
      "source": [
        "import numpy as np\n",
        "import pandas as pd\n",
        "import matplotlib.pyplot as plt\n",
        "import seaborn as sns\n",
        "import sklearn\n",
        "from datetime import datetime, timedelta"
      ],
      "execution_count": null,
      "outputs": []
    },
    {
      "cell_type": "markdown",
      "metadata": {
        "id": "SyAApIkev0c-"
      },
      "source": [
        "## get data"
      ]
    },
    {
      "cell_type": "markdown",
      "metadata": {
        "id": "PdUiblKRVj7T"
      },
      "source": [
        "**bold text**# New Section"
      ]
    },
    {
      "cell_type": "code",
      "metadata": {
        "id": "btcumcXuv2I1"
      },
      "source": [
        "!wget https://transfer.sh//data.csv ##get data"
      ],
      "execution_count": null,
      "outputs": []
    },
    {
      "cell_type": "markdown",
      "metadata": {
        "id": "S7PguXIezLy3"
      },
      "source": [
        "\n",
        "\n",
        "## read dataset"
      ]
    },
    {
      "cell_type": "code",
      "metadata": {
        "id": "VCmACoIxzN2J"
      },
      "source": [
        "df = pd.read_csv('data.csv') #data as date, price, open, high, low, vol., change %\n",
        "df.head()"
      ],
      "execution_count": null,
      "outputs": []
    },
    {
      "cell_type": "markdown",
      "metadata": {
        "id": "BvSagjlU0RT_"
      },
      "source": [
        "<h1> <a> data exploration </a> </h1>"
      ]
    },
    {
      "cell_type": "code",
      "metadata": {
        "id": "IflG8vVkzZq4"
      },
      "source": [
        "print(\"number of samples is {}\".format(df.shape[0]))\n",
        "print(\"number of features is {}\".format(df.shape[1]))"
      ],
      "execution_count": null,
      "outputs": []
    },
    {
      "cell_type": "code",
      "metadata": {
        "id": "bYO5ZILNz-cG"
      },
      "source": [
        "df.columns"
      ],
      "execution_count": null,
      "outputs": []
    },
    {
      "cell_type": "code",
      "metadata": {
        "id": "g3mNOMyd0G2d"
      },
      "source": [
        "df.isnull().sum()"
      ],
      "execution_count": null,
      "outputs": []
    },
    {
      "cell_type": "code",
      "metadata": {
        "id": "JMOfv6WX0ILk"
      },
      "source": [
        "df.info()"
      ],
      "execution_count": null,
      "outputs": []
    },
    {
      "cell_type": "code",
      "metadata": {
        "id": "0xMe77tr0LcQ"
      },
      "source": [
        "df.describe() #describe the data in more detail. freq is the frequence of most common data"
      ],
      "execution_count": null,
      "outputs": []
    },
    {
      "cell_type": "code",
      "metadata": {
        "id": "XzwyBBC10PW9"
      },
      "source": [
        "df.isnull().sum()"
      ],
      "execution_count": null,
      "outputs": []
    },
    {
      "cell_type": "markdown",
      "metadata": {
        "id": "kBSV92k2qwMt"
      },
      "source": [
        "### data types"
      ]
    },
    {
      "cell_type": "code",
      "metadata": {
        "id": "c-auvaNbqtxm"
      },
      "source": [
        "for column in df.columns:\n",
        "  print('{} data type is {}'.format(column, type(df[column][0])))"
      ],
      "execution_count": null,
      "outputs": []
    },
    {
      "cell_type": "markdown",
      "metadata": {
        "id": "PZGcIT3M0gEC"
      },
      "source": [
        "\n",
        "<h1> <a> data preprocessing </a> </h1>"
      ]
    },
    {
      "cell_type": "markdown",
      "metadata": {
        "id": "ZwIcc3CF0sea"
      },
      "source": [
        "* <a> drop unnecessary data </a>"
      ]
    },
    {
      "cell_type": "code",
      "metadata": {
        "id": "tdbdPDkk0npd"
      },
      "source": [
        "df.drop('Change %', axis =1 , inplace=True) #remove column name change %\n",
        "df.head()"
      ],
      "execution_count": null,
      "outputs": []
    },
    {
      "cell_type": "markdown",
      "metadata": {
        "id": "jN_MbLYx5uzp"
      },
      "source": [
        "* <a> remove \",\" from number </a>"
      ]
    },
    {
      "cell_type": "code",
      "metadata": {
        "id": "kghITJ4p5uG6"
      },
      "source": [
        "# remove special character\n",
        "df['Date']   =df['Date'].str.replace(',','-')\n",
        "#df['Price']  =df['Price'].str.replace(',','')\n",
        "#df['Open']   =df['Open'].str.replace(',','')\n",
        "#df['High']   =df['High'].str.replace(',','')\n",
        "#df['Low']    =df['Low'].str.replace(',','')"
      ],
      "execution_count": null,
      "outputs": []
    },
    {
      "cell_type": "code",
      "metadata": {
        "id": "Wl0xbBXD6VYB"
      },
      "source": [
        "df.head(2)"
      ],
      "execution_count": null,
      "outputs": []
    },
    {
      "cell_type": "markdown",
      "metadata": {
        "id": "VhhWxdwK1CgR"
      },
      "source": [
        "* <a> change datatype of features: Remove \",\" from columns, change data type of columns like price, open, high, low, vol. to float </a>"
      ]
    },
    {
      "cell_type": "code",
      "metadata": {
        "id": "Vp4zJn6x1xsA"
      },
      "source": [
        "df.columns"
      ],
      "execution_count": null,
      "outputs": []
    },
    {
      "cell_type": "code",
      "metadata": {
        "id": "Jj8-H3Kn28On"
      },
      "source": [
        "df = df.rename(columns={\"Vol.\": \"Vol\"})\n",
        "df.Vol = (df.Vol.replace(r'[KM]+$', '', regex=True).astype(float) * \\\n",
        "           df.Vol.str.extract(r'[\\d\\.]+([KM]+)', expand=False).fillna(1)\\\n",
        "           .replace(['K','M'], [10**3, 10**6]).astype(int))\n",
        "df.head(2)"
      ],
      "execution_count": null,
      "outputs": []
    },
    {
      "cell_type": "code",
      "metadata": {
        "id": "0W2A-tJ773RJ"
      },
      "source": [
        "df['Price'] = df['Price'].astype(float)\n",
        "df['Open'] = df['Open'].astype(float)\n",
        "df['High'] = df['High'].astype(float)\n",
        "df['Low'] = df['Low'].astype(float)\n"
      ],
      "execution_count": null,
      "outputs": []
    },
    {
      "cell_type": "code",
      "metadata": {
        "id": "1fUnSNSDscXH"
      },
      "source": [
        "df.head(2)"
      ],
      "execution_count": null,
      "outputs": []
    },
    {
      "cell_type": "code",
      "metadata": {
        "id": "yS0GUiAis6Px"
      },
      "source": [
        "for column in df.columns:\n",
        "  print('{} data type is {}'.format(column, type(df[column][0])))"
      ],
      "execution_count": null,
      "outputs": []
    },
    {
      "cell_type": "code",
      "metadata": {
        "id": "LIQQiSnstBoL"
      },
      "source": [
        "df.head(5)"
      ],
      "execution_count": null,
      "outputs": []
    },
    {
      "cell_type": "code",
      "metadata": {
        "id": "r4WCjnB-tzyD"
      },
      "source": [
        "df.head(5)"
      ],
      "execution_count": null,
      "outputs": []
    },
    {
      "cell_type": "code",
      "metadata": {
        "id": "bMdAhNhDt3YH"
      },
      "source": [
        "df.tail(5)"
      ],
      "execution_count": null,
      "outputs": []
    },
    {
      "cell_type": "code",
      "metadata": {
        "id": "_9s41FlruC0G"
      },
      "source": [
        "for column in df.columns:\n",
        "  print('{} data type is {}'.format(column, type(df[column][0])))"
      ],
      "execution_count": null,
      "outputs": []
    },
    {
      "cell_type": "code",
      "metadata": {
        "id": "JQ7U4K9duTiK"
      },
      "source": [
        "import calendar"
      ],
      "execution_count": null,
      "outputs": []
    },
    {
      "cell_type": "markdown",
      "metadata": {
        "id": "d90Zk4fyxU17"
      },
      "source": [
        "**# We need to properly interpret the date column (remove alphabets, remove \",\". So, an additional column named nDate is created.\n",
        "\n",
        "We need to convert the months in date columns (Jan,Feb,Mar) to numbers 01, 02, 03... **"
      ]
    },
    {
      "cell_type": "code",
      "metadata": {
        "id": "g2YZS35kuF-W"
      },
      "source": [
        "month_number = {month: index for index, month in enumerate(calendar.month_abbr) if month}#Create a reverse dictionary using the calendar module"
      ],
      "execution_count": null,
      "outputs": []
    },
    {
      "cell_type": "code",
      "metadata": {
        "id": "2EUL7mshzB9N"
      },
      "source": [
        "month_number"
      ],
      "execution_count": null,
      "outputs": []
    },
    {
      "cell_type": "code",
      "metadata": {
        "id": "YbX82lHezGT-"
      },
      "source": [
        "for key, value in month_number.items():\n",
        "    # do something with value\n",
        "    if len(str(value)) == 1:\n",
        "      month_number[key] = '0'+str(value)"
      ],
      "execution_count": null,
      "outputs": []
    },
    {
      "cell_type": "code",
      "metadata": {
        "id": "oiJPW63azpug"
      },
      "source": [
        "month_number"
      ],
      "execution_count": null,
      "outputs": []
    },
    {
      "cell_type": "code",
      "metadata": {
        "id": "WrROTTDNubK0"
      },
      "source": [
        "str(month_number[df['Date'][100][:3]])+'-'+ df['Date'][0][3:]"
      ],
      "execution_count": null,
      "outputs": []
    },
    {
      "cell_type": "code",
      "metadata": {
        "id": "_m3tw6AOwscI"
      },
      "source": [
        "df['nDate']= '_'"
      ],
      "execution_count": null,
      "outputs": []
    },
    {
      "cell_type": "code",
      "metadata": {
        "id": "vAtgFbxkxJ3p"
      },
      "source": [
        "for i in range(df.shape[0]):\n",
        "  df['nDate'][i] = str(month_number[df['Date'][i][:3]]) + df['Date'][i][3:]"
      ],
      "execution_count": null,
      "outputs": []
    },
    {
      "cell_type": "code",
      "metadata": {
        "id": "XHv6S7LrxdkZ"
      },
      "source": [
        "df"
      ],
      "execution_count": null,
      "outputs": []
    },
    {
      "cell_type": "code",
      "metadata": {
        "id": "F6GrDTCjz8yt"
      },
      "source": [
        "df['nDate'] = df['nDate'].str.replace('-','')"
      ],
      "execution_count": null,
      "outputs": []
    },
    {
      "cell_type": "code",
      "metadata": {
        "id": "9QiiL5Hvz81W"
      },
      "source": [
        "df['nDate'] = df['nDate'].str.replace(' ','')"
      ],
      "execution_count": null,
      "outputs": []
    },
    {
      "cell_type": "code",
      "metadata": {
        "id": "v-jDBdT41tRM"
      },
      "source": [
        "df.tail()"
      ],
      "execution_count": null,
      "outputs": []
    },
    {
      "cell_type": "code",
      "metadata": {
        "id": "AeHg1xv8y5ta"
      },
      "source": [
        "df.head()"
      ],
      "execution_count": null,
      "outputs": []
    },
    {
      "cell_type": "code",
      "metadata": {
        "id": "nMdrn5Fu0rN-"
      },
      "source": [
        "df['nDate'] = pd.to_datetime(df['nDate'], format='%m%d%Y')"
      ],
      "execution_count": null,
      "outputs": []
    },
    {
      "cell_type": "code",
      "metadata": {
        "id": "X9iKQnkw3EIb"
      },
      "source": [
        "df.head()"
      ],
      "execution_count": null,
      "outputs": []
    },
    {
      "cell_type": "code",
      "metadata": {
        "id": "KhctSNyq3dAR"
      },
      "source": [
        "df['Date'] = df['nDate'] #replace Date with nDate"
      ],
      "execution_count": null,
      "outputs": []
    },
    {
      "cell_type": "code",
      "metadata": {
        "id": "PFxEbu014AF2"
      },
      "source": [
        "df.drop(columns=['nDate'], inplace=True)"
      ],
      "execution_count": null,
      "outputs": []
    },
    {
      "cell_type": "code",
      "metadata": {
        "id": "kGaIv2qf4G9q"
      },
      "source": [
        "df.head()"
      ],
      "execution_count": null,
      "outputs": []
    },
    {
      "cell_type": "code",
      "metadata": {
        "id": "wNA6HAXWGnlW"
      },
      "source": [
        "df.shape"
      ],
      "execution_count": null,
      "outputs": []
    },
    {
      "cell_type": "code",
      "metadata": {
        "id": "0pr5XVDMHGc4"
      },
      "source": [
        "train_df = df.iloc[:2097, : ]#create training data\n",
        "train_df.shape"
      ],
      "execution_count": null,
      "outputs": []
    },
    {
      "cell_type": "code",
      "metadata": {
        "id": "laqHfYPZHa5b"
      },
      "source": [
        "test_df = df.iloc[2097:, : ]#create test data\n",
        "test_df.shape"
      ],
      "execution_count": null,
      "outputs": []
    },
    {
      "cell_type": "code",
      "metadata": {
        "id": "8z3FRPuR4VCV"
      },
      "source": [
        "for column in df.columns:\n",
        "  print('{} data type is {}'.format(column, type(df[column][0])))"
      ],
      "execution_count": null,
      "outputs": []
    },
    {
      "cell_type": "code",
      "metadata": {
        "id": "3jl7WVWg4bFL"
      },
      "source": [
        "df.isnull().sum()"
      ],
      "execution_count": null,
      "outputs": []
    },
    {
      "cell_type": "code",
      "metadata": {
        "id": "ATa7DwkZ7S5A"
      },
      "source": [
        "df['Date'] = pd.to_datetime(df['Date']).dt.date\n"
      ],
      "execution_count": null,
      "outputs": []
    },
    {
      "cell_type": "code",
      "metadata": {
        "id": "tf_QQ6lBMb9V"
      },
      "source": [
        "plt.figure(figsize = (20,5))\n",
        "plt.plot(range(df.shape[0]),(df['Low']+df['High'])/2.0, color='blue')\n",
        "plt.xticks(range(0,df.shape[0],50),df['Date'].loc[::50],rotation=90)\n",
        "plt.yticks(range(0,16000,1000))\n",
        "plt.xlabel('Date',fontsize=18)\n",
        "plt.ylabel('Mid Price (high + low)/2',fontsize=18)\n",
        "plt.grid()\n",
        "plt.show()"
      ],
      "execution_count": null,
      "outputs": []
    },
    {
      "cell_type": "code",
      "metadata": {
        "id": "__NaeOkC8lT3"
      },
      "source": [
        "plt.figure(figsize = (20,5))\n",
        "plt.plot(range(df.shape[0]),df['Price'], color='red')\n",
        "plt.xticks(range(0,df.shape[0],50),df['Date'].loc[::50],rotation=90)\n",
        "plt.yticks(range(0,16000,1000))\n",
        "plt.xlabel('Date',fontsize=18)\n",
        "plt.ylabel('Price',fontsize=18)\n",
        "plt.grid()\n",
        "plt.show()"
      ],
      "execution_count": null,
      "outputs": []
    },
    {
      "cell_type": "markdown",
      "metadata": {
        "id": "4ZM0YpJ01VSa"
      },
      "source": [
        "<a> <h1> Feature Engineering </h1> </a>"
      ]
    },
    {
      "cell_type": "code",
      "metadata": {
        "id": "rEtuIaJb1bo_"
      },
      "source": [
        "training_data = train_df.iloc[: , 1:2].values\n",
        "training_data"
      ],
      "execution_count": null,
      "outputs": []
    },
    {
      "cell_type": "code",
      "metadata": {
        "id": "zHR1yHnvITjW"
      },
      "source": [
        "test_data = test_df.iloc[: , 1:2].values\n",
        "test_data.shape"
      ],
      "execution_count": null,
      "outputs": []
    },
    {
      "cell_type": "markdown",
      "metadata": {
        "id": "brL_ga5_6FAz"
      },
      "source": [
        "* <a> scale all values of train and test data between 0 and 1. </a>"
      ]
    },
    {
      "cell_type": "code",
      "metadata": {
        "id": "IbaI5Ny06Eer"
      },
      "source": [
        "from sklearn.preprocessing import MinMaxScaler\n",
        "sc = MinMaxScaler(feature_range = (0, 1))\n",
        "training_set_scaled = sc.fit_transform(training_data)"
      ],
      "execution_count": null,
      "outputs": []
    },
    {
      "cell_type": "code",
      "metadata": {
        "id": "wPa9d0vwIeKj"
      },
      "source": [
        "test_set_scaled = sc.fit_transform(test_data)\n"
      ],
      "execution_count": null,
      "outputs": []
    },
    {
      "cell_type": "markdown",
      "metadata": {
        "id": "HSsfhmCy7xU0"
      },
      "source": [
        "## Creating Data with Timesteps\n",
        "\n",
        "\n",
        "LSTMs expect our data to be in a specific format, usually a 3D array. We start by creating data in 40 timesteps and converting it into an array using NumPy."
      ]
    },
    {
      "cell_type": "code",
      "source": [],
      "metadata": {
        "id": "h-flG9kCDOSR"
      },
      "execution_count": null,
      "outputs": []
    },
    {
      "cell_type": "code",
      "metadata": {
        "id": "-9hY2vozrijC"
      },
      "source": [
        "length = 60"
      ],
      "execution_count": null,
      "outputs": []
    },
    {
      "cell_type": "code",
      "metadata": {
        "id": "ugZ6xjUE1cKt"
      },
      "source": [
        "X_train = []\n",
        "y_train = []\n",
        "for i in range(length, 2097):\n",
        "    X_train.append(training_set_scaled[i-length:i, 0])\n",
        "    y_train.append(training_set_scaled[i, 0])\n",
        "X_train, y_train = np.array(X_train), np.array(y_train)\n",
        "\n",
        "X_train = np.reshape(X_train, (X_train.shape[0], X_train.shape[1], 1))"
      ],
      "execution_count": null,
      "outputs": []
    },
    {
      "cell_type": "code",
      "metadata": {
        "id": "-jPDsyMrIBlG"
      },
      "source": [
        "X_test = []\n",
        "y_test = []\n",
        "for i in range(length, 400):\n",
        "    X_test.append(test_set_scaled[i-length:i, 0])\n",
        "    y_test.append(test_set_scaled[i, 0])\n",
        "X_test, y_test = np.array(X_test), np.array(y_test)\n",
        "\n",
        "X_test = np.reshape(X_test, (X_test.shape[0], X_test.shape[1], 1))"
      ],
      "execution_count": null,
      "outputs": []
    },
    {
      "cell_type": "code",
      "metadata": {
        "id": "f9ApMAkT8VIT"
      },
      "source": [
        "print(\"x_train shape is : \",X_train.shape )\n",
        "print(\"y_train shape is : \",y_train.shape )\n",
        "print(\"X_test shape is : \",X_test.shape )\n",
        "print(\"y_test shape is : \",y_test.shape )"
      ],
      "execution_count": null,
      "outputs": []
    },
    {
      "cell_type": "code",
      "metadata": {
        "id": "4wkShGHY8lSW"
      },
      "source": [
        "X_train[2]"
      ],
      "execution_count": null,
      "outputs": []
    },
    {
      "cell_type": "markdown",
      "metadata": {
        "id": "YyYCeaXG9Bof"
      },
      "source": [
        "## train_test_split"
      ]
    },
    {
      "cell_type": "code",
      "metadata": {
        "id": "vCWIR4sz9Ej6"
      },
      "source": [
        "from sklearn.model_selection import train_test_split\n",
        "import tensorflow as tf"
      ],
      "execution_count": null,
      "outputs": []
    },
    {
      "cell_type": "code",
      "metadata": {
        "id": "6Iuxk6Cf_Qxo"
      },
      "source": [
        "print(\"X_train shape is : \" ,X_train.shape )\n",
        "print(\"X_test shape is : \"  , X_test.shape )\n",
        "print(\"y_train shape is : \" , y_train.shape)\n",
        "print(\"y_test shape is : \"  ,y_test.shape )"
      ],
      "execution_count": null,
      "outputs": []
    },
    {
      "cell_type": "markdown",
      "metadata": {
        "id": "Y6vICeCE8wmx"
      },
      "source": [
        "## build lstm using keras\n",
        "Add the following to neural network:\n",
        "> Sequential layer: a plain stack of layers where each layer has exactly one input tensor and one output tensor.\n",
        "> LSTM layer\n",
        "> Dropout layer to help prevent overfitting\n",
        "> Dense layer is a fully connected 1 to 1 layer.\n",
        "\n"
      ]
    },
    {
      "cell_type": "code",
      "metadata": {
        "id": "1Fb0yz-t8uRn"
      },
      "source": [
        "from keras.models import Sequential\n",
        "from keras.layers import Dense\n",
        "from keras.layers import LSTM\n",
        "from keras.layers import Dropout\n",
        "from tensorflow.keras.optimizers import Adam\n",
        "from keras.layers import LeakyReLU"
      ],
      "execution_count": null,
      "outputs": []
    },
    {
      "cell_type": "code",
      "metadata": {
        "id": "6lmIBura826J"
      },
      "source": [
        "def build_model():\n",
        "\n",
        "  model = Sequential()\n",
        "\n",
        "  # model.add(LSTM(units = 200, return_sequences = True,activation='tanh', input_shape = (X_train.shape[1], 1)))\n",
        "  # model.add(Dropout(0.1))\n",
        "\n",
        "  model.add(LSTM(units = 50, return_sequences = True,activation='tanh', input_shape = (X_train.shape[1], 1)))\n",
        "  model.add(Dropout(0.1))\n",
        "\n",
        "  model.add(LSTM(units = 50, return_sequences = True , activation='tanh'))\n",
        "  model.add(Dropout(0.1))\n",
        "\n",
        "  model.add(LSTM(units = 50, return_sequences = True , activation='tanh'))\n",
        "  model.add(Dropout(0.1))\n",
        "\n",
        "  model.add(LSTM(units = 10,  activation='tanh'))\n",
        "  model.add(Dropout(0.2))\n",
        "\n",
        "  model.add(Dense(units = 1 , activation='relu'))\n",
        "\n",
        "  model.summary()\n",
        "\n",
        "\n",
        "  return model\n"
      ],
      "execution_count": null,
      "outputs": []
    },
    {
      "cell_type": "code",
      "metadata": {
        "id": "Rw5abnK_xV-b"
      },
      "source": [
        "model = build_model()"
      ],
      "execution_count": null,
      "outputs": []
    },
    {
      "cell_type": "code",
      "metadata": {
        "id": "7-5tFgoLwn8L"
      },
      "source": [
        "BATCH_SIZE = 5\n",
        "EPOCHS = 100\n",
        "LR = 0.01"
      ],
      "execution_count": null,
      "outputs": []
    },
    {
      "cell_type": "code",
      "metadata": {
        "id": "aTdJ8jzDwoF4"
      },
      "source": [
        "optim = Adam(lr = LR, decay = LR/EPOCHS)\n",
        "callback = tf.keras.callbacks.EarlyStopping(monitor='loss', patience=3)\n",
        "\n",
        "model.compile(optimizer = 'adam', loss = 'mean_squared_error')\n",
        "\n",
        "history = model.fit(    X_train, y_train,\n",
        "                        batch_size = BATCH_SIZE ,\n",
        "                        steps_per_epoch=len(X_train)//BATCH_SIZE,\n",
        "                        validation_data=(X_test, y_test),\n",
        "                        validation_steps=len(X_test)//BATCH_SIZE,\n",
        "                        epochs=EPOCHS,\n",
        "                        callbacks=[callback],\n",
        "                        verbose=1\n",
        "          )"
      ],
      "execution_count": null,
      "outputs": []
    },
    {
      "cell_type": "code",
      "metadata": {
        "id": "xE4MQMxq8KUH"
      },
      "source": [
        "model.save('model.h5')\n"
      ],
      "execution_count": null,
      "outputs": []
    },
    {
      "cell_type": "markdown",
      "metadata": {
        "id": "FB1uRA-yDKxq"
      },
      "source": [
        "## evaluate model"
      ]
    },
    {
      "cell_type": "code",
      "metadata": {
        "id": "3QJActXoDKLB"
      },
      "source": [
        "model.evaluate(X_test, y_test)"
      ],
      "execution_count": null,
      "outputs": []
    },
    {
      "cell_type": "code",
      "metadata": {
        "id": "UvpiillVDbph"
      },
      "source": [
        "print(history.history.keys())"
      ],
      "execution_count": null,
      "outputs": []
    },
    {
      "cell_type": "code",
      "metadata": {
        "id": "TqASMB1CDlpg"
      },
      "source": [
        "\n",
        "#Loss plot\n",
        "plt.plot(history.history['loss'])\n",
        "plt.plot(history.history['val_loss'])\n",
        "plt.title('Model Loss')\n",
        "plt.ylabel('Loss')\n",
        "plt.xlabel('Epoch')\n",
        "plt.legend(['train', 'test'], loc='upper left')\n",
        "plt.show()\n",
        "\n"
      ],
      "execution_count": null,
      "outputs": []
    },
    {
      "cell_type": "markdown",
      "metadata": {
        "id": "kuVYZBDxLLJj"
      },
      "source": [
        "## predict test data and transform it"
      ]
    },
    {
      "cell_type": "code",
      "metadata": {
        "id": "CGR0rpMFGXAy"
      },
      "source": [
        "X_test.shape"
      ],
      "execution_count": null,
      "outputs": []
    },
    {
      "cell_type": "code",
      "metadata": {
        "id": "JT6D-oxoDrvb"
      },
      "source": [
        "predicted_stock_price = model.predict(X_test)\n",
        "predicted_stock_price = sc.inverse_transform(predicted_stock_price)\n"
      ],
      "execution_count": null,
      "outputs": []
    },
    {
      "cell_type": "code",
      "metadata": {
        "id": "j4TASbfLJCx_"
      },
      "source": [
        "predicted_stock_price = np.array(predicted_stock_price).reshape(-1,1)\n",
        "predicted_stock_price.shape"
      ],
      "execution_count": null,
      "outputs": []
    },
    {
      "cell_type": "code",
      "metadata": {
        "id": "mwHqCszn2MRi"
      },
      "source": [
        "y_test = y_test.reshape(-1,1)\n"
      ],
      "execution_count": null,
      "outputs": []
    },
    {
      "cell_type": "code",
      "metadata": {
        "id": "z6jCmx-u3jFo"
      },
      "source": [
        "y_test.shape"
      ],
      "execution_count": null,
      "outputs": []
    },
    {
      "cell_type": "markdown",
      "metadata": {
        "id": "SB7oqXAHLQ-7"
      },
      "source": [
        "## transform Y_label"
      ]
    },
    {
      "cell_type": "code",
      "metadata": {
        "id": "xW5WTuYZI1Od"
      },
      "source": [
        "y_test = sc.inverse_transform(y_test)\n",
        "\n",
        "y_test = np.array(y_test).reshape(-1,1)\n",
        "y_test.shape"
      ],
      "execution_count": null,
      "outputs": []
    },
    {
      "cell_type": "code",
      "metadata": {
        "id": "ZHRNfW92KY_A"
      },
      "source": [
        "predicted_stock_price[:10]"
      ],
      "execution_count": null,
      "outputs": []
    },
    {
      "cell_type": "code",
      "metadata": {
        "id": "jonICMO-LXtq"
      },
      "source": [
        "print(np.min(y_test))"
      ],
      "execution_count": null,
      "outputs": []
    },
    {
      "cell_type": "markdown",
      "metadata": {
        "id": "7v37JbJOD2k4"
      },
      "source": [
        "## plot predict test with actual\n",
        "\n"
      ]
    },
    {
      "cell_type": "code",
      "metadata": {
        "id": "PZkta8GTNXBr"
      },
      "source": [
        "window_size = 100\n",
        "N = df.shape[0]"
      ],
      "execution_count": null,
      "outputs": []
    },
    {
      "cell_type": "code",
      "metadata": {
        "id": "ww-IWFO5NBb0"
      },
      "source": [
        "str(df['Date'][0])"
      ],
      "execution_count": null,
      "outputs": []
    },
    {
      "cell_type": "code",
      "metadata": {
        "id": "GWA1UdXEMp_z"
      },
      "source": [
        "test_df['Date'] = pd.to_datetime(test_df['Date']).dt.date\n"
      ],
      "execution_count": null,
      "outputs": []
    },
    {
      "cell_type": "code",
      "metadata": {
        "id": "9TMSlYbg9Vl6"
      },
      "source": [
        "plt.figure(figsize = (20,5))\n",
        "plt.plot(range(test_df.shape[0] - length),y_test, color='blue')\n",
        "plt.plot(range(test_df.shape[0] - length),predicted_stock_price, color='red')\n",
        "\n",
        "plt.xticks(range(0,test_df.shape[0],length),test_df['Date'].loc[::length],rotation=90)\n",
        "plt.yticks(range(0,16000,1000))\n",
        "plt.xlabel('Date',fontsize=18)\n",
        "plt.ylabel('Price',fontsize=18)\n",
        "plt.legend(['true_value', 'Predicted'], loc='upper right')\n",
        "plt.grid()\n",
        "plt.show()"
      ],
      "execution_count": null,
      "outputs": []
    },
    {
      "cell_type": "code",
      "metadata": {
        "id": "hSI9LIEcc_YD"
      },
      "source": [
        "df.Price.min()"
      ],
      "execution_count": null,
      "outputs": []
    },
    {
      "cell_type": "markdown",
      "metadata": {
        "id": "xKXOGtBlMBIV"
      },
      "source": [
        "## Week Prediction"
      ]
    },
    {
      "cell_type": "code",
      "metadata": {
        "id": "gvCowMDWMHFn"
      },
      "source": [
        "\n",
        "def weekly_prediction(input_data, days_to_predict):\n",
        "  '''\n",
        "  Predict prices for comming week\n",
        "\n",
        "  Input: Preevious prices data\n",
        "\n",
        "  Return: - array of coming days(days_to_predict) prices.\n",
        "          - array of coming days(days_to_predict.\n",
        "\n",
        "  '''\n",
        "  #clean latest prediction\n",
        "  coming_week_Prices = []\n",
        "  print(length)\n",
        "  # get latest 30 days statistics\n",
        "  week_df = df[0:length].reset_index()\n",
        "  week_df = df[2497-60:2498].reset_index()\n",
        "  #print(week_df)\n",
        "  # extract peice feature\n",
        "  input_week = week_df.Price\n",
        "\n",
        "  # convert df into array\n",
        "  input_week = np.array(input_week)\n",
        "\n",
        "  # array into vector 2D\n",
        "  input_week = input_week.reshape(-1,1)\n",
        "  #print(input_week)\n",
        "  # scaling the data\n",
        "  weekly_set_scaled = sc.fit_transform(input_week)\n",
        "\n",
        "  # convert shape into the shape of model (1,50,1)\n",
        "  weekly_set_scaled = weekly_set_scaled.reshape(1,length,1)\n",
        "\n",
        "  # get nxt day pedection\n",
        "  # this done by inputing latest 30 days\n",
        "  week_predicted_stock_price = model.predict(weekly_set_scaled)\n",
        "  new_price =  sc.inverse_transform(week_predicted_stock_price)[0][0]\n",
        "\n",
        "  # a new list to store weekly predicted prices\n",
        "  coming_week_Prices = []\n",
        "  coming_week_Prices.append(new_price)\n",
        "  dates = []\n",
        "  dates.append(week_df['Date'][0] + timedelta(days=1))\n",
        "  for i in range(days_to_predict - 1):\n",
        "    dates.append(week_df['Date'][0] + timedelta(days=i+2))\n",
        "    latest_week_prices_list = list(weekly_set_scaled.reshape(1,-1)[0])\n",
        "    latest_week_prices_list = latest_week_prices_list[1:]\n",
        "    latest_week_prices_list.append(week_predicted_stock_price[0][0])\n",
        "    weekly_set_scaled = np.array(latest_week_prices_list).reshape(1,length,1)\n",
        "    week_predicted_stock_price = model.predict(weekly_set_scaled)\n",
        "    coming_week_Prices.append(sc.inverse_transform(week_predicted_stock_price)[0][0])\n",
        "\n",
        "  plt.figure(figsize = (20,10))\n",
        "  plt.plot(range(days_to_predict),coming_week_Prices, color='red')\n",
        "\n",
        "  plt.xticks(range(0,days_to_predict,1),dates,rotation=90)\n",
        "  plt.yticks(range(int(np.min(coming_week_Prices) - 30), int(np.max(coming_week_Prices) + 30), 20))\n",
        "  plt.xlabel('Date',fontsize=18)\n",
        "  plt.ylabel('Price',fontsize=18)\n",
        "  plt.legend(['true_value', 'Predicted'], loc='upper right')\n",
        "  plt.grid()\n",
        "  plt.savefig('sample.png')\n",
        "\n",
        "\n",
        "  return coming_week_Prices"
      ],
      "execution_count": null,
      "outputs": []
    },
    {
      "cell_type": "markdown",
      "metadata": {
        "id": "AWbpna4v8gcx"
      },
      "source": [
        "## it predict 3 days from 20/2/2021"
      ]
    },
    {
      "cell_type": "code",
      "metadata": {
        "id": "n8YZxk-eHHaY"
      },
      "source": [
        "weekly_prediction(df, 2)"
      ],
      "execution_count": null,
      "outputs": []
    },
    {
      "cell_type": "code",
      "metadata": {
        "id": "gRxhrsHiQw3R"
      },
      "source": [],
      "execution_count": null,
      "outputs": []
    }
  ]
}